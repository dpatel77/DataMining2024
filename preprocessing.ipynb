{
 "cells": [
  {
   "cell_type": "code",
   "execution_count": 21,
   "metadata": {},
   "outputs": [],
   "source": [
    "import pandas as pd\n",
    "import numpy as np"
   ]
  },
  {
   "cell_type": "code",
   "execution_count": 22,
   "metadata": {},
   "outputs": [],
   "source": [
    "df = pd.read_excel('pedestrian_incidents.xlsx')"
   ]
  },
  {
   "cell_type": "code",
   "execution_count": 23,
   "metadata": {},
   "outputs": [
    {
     "data": {
      "text/plain": [
       "(22848, 73)"
      ]
     },
     "execution_count": 23,
     "metadata": {},
     "output_type": "execute_result"
    }
   ],
   "source": [
    "df.shape"
   ]
  },
  {
   "cell_type": "code",
   "execution_count": 24,
   "metadata": {},
   "outputs": [],
   "source": [
    "# Remoe unvecessary columns due to target leakage, bad data, high-level of missing data, and redundant data\n",
    "remove_cols = ['Unnamed: 0', 'crash_record_id', 'vehicle_type', 'crash_date_y', 'date_police_notified', 'prim_contributory_cause'\n",
    "               , 'sec_contributory_cause', 'street_no', 'street_name','beat_of_occurrence', 'most_severe_injury'\n",
    "               , 'injuries_total', 'injuries_fatal', 'injuries_incapacitating', 'injuries_non_incapacitating', 'injuries_reported_not_evident'\n",
    "               , 'injuries_no_indication', 'injuries_unknown', 'latitude', 'longitude', 'location', 'pedpedal_action', 'make', 'model'\n",
    "               , 'photos_taken_i', 'statements_taken_i', 'crash_date_est_i', 'private_property_i', 'work_zone_i', 'work_zone_type', 'crash_date_x'\n",
    "               , 'dooring_i', 'workers_present_i', 'lane_cnt', 'beat_num_x', 'district_name_x', 'beat', 'ward', 'community_area', 'model'\n",
    "               , 'district_x', 'beat_num_y', 'district', 'district_name_y', 'area_numbe', 'community', 'person_id', 'device_condition']\n",
    "\n",
    "df.drop(columns=remove_cols, inplace=True)"
   ]
  },
  {
   "cell_type": "code",
   "execution_count": 25,
   "metadata": {},
   "outputs": [
    {
     "data": {
      "text/plain": [
       "(22848, 26)"
      ]
     },
     "execution_count": 25,
     "metadata": {},
     "output_type": "execute_result"
    }
   ],
   "source": [
    "df.shape"
   ]
  },
  {
   "cell_type": "code",
   "execution_count": 26,
   "metadata": {},
   "outputs": [],
   "source": [
    "# rename injury_classification to target\n",
    "mapping = {'NO INDICATION OF INJURY': 0, 'REPORTED, NOT EVIDENT':0,'NONINCAPACITATING INJURY': 1, 'INCAPACITATING INJURY': 2, 'INCAPACITATING INJURY': 2}\n",
    "\n",
    "# convert injury_classification to numerical values\n",
    "df['injury_classification'] = df['injury_classification'].map(mapping)\n",
    "\n",
    "# rename injury_classification to target\n",
    "df.rename(columns={'injury_classification': 'target'}, inplace=True)\n",
    "\n",
    "# remove potential Na recorcords \n",
    "df = df.dropna(subset=['target'])\n",
    "\n",
    "df['target'] = df[['target']].astype(int)"
   ]
  },
  {
   "cell_type": "code",
   "execution_count": 27,
   "metadata": {},
   "outputs": [],
   "source": [
    "# Rename columns \n",
    "col_name_mapping = {'person_type': 'person_type_ind', 'age': 'age_ind', 'sex': 'sex_ind', 'intersection_related_i': 'intersection_related_i_ind'\n",
    "                    ,'pedpedal_action': 'pedpedal_action_ind', 'pedpedal_visibility': 'pedpedal_visibility_ind'\n",
    "                    ,'pedpedal_location': 'pedpedal_location_ind', 'posted_speed_limit': 'posted_speed_limit_ind'\n",
    "                    ,'traffic_control_device': 'traffic_control_device_ind', 'lighting_condition': 'lighting_condition_ind'\n",
    "                    ,'roadway_surface_cond': 'roadway_surface_cond_ind', 'first_crash_type': 'first_crash_type_ind', 'trafficway_type': 'trafficway_type_ind'\n",
    "                    ,'crash_month': 'crash_month_ind', 'intersection_related_ind': 'intersection_related_i_ind', 'district_x': 'district'\n",
    "                    ,'weather_condition': 'weather_condition_ind', 'alignment': 'alignment_ind', 'road_defect': 'road_defect_ind', 'report_type': 'report_type_ind'\n",
    "                    ,'crash_type': 'crash_type_ind', 'damage': 'damage_ind', 'street_direction': 'street_direction_ind', 'num_units': 'num_units_ind'\n",
    "                    ,'crash_hour': 'crash_hour_ind', 'hit_and_run_i': 'hit_and_run_i_ind', 'crash_day_of_week': 'crash_day_of_week_ind'}\n",
    "\n",
    "# Rename columns using map\n",
    "df = df.rename(columns=col_name_mapping)"
   ]
  },
  {
   "cell_type": "markdown",
   "metadata": {},
   "source": [
    "#### Encode feataures"
   ]
  },
  {
   "cell_type": "code",
   "execution_count": 28,
   "metadata": {},
   "outputs": [],
   "source": [
    "df = df.fillna(0)"
   ]
  },
  {
   "cell_type": "code",
   "execution_count": 29,
   "metadata": {},
   "outputs": [],
   "source": [
    "# filter dataframe \n",
    "suffix = '_ind'\n",
    "ind_filtered_df = df.filter(like=suffix, axis=1)\n",
    "\n",
    "# Get list of columns not included from above \n",
    "non_ind_columns = df.columns.difference(ind_filtered_df.columns)\n",
    "\n",
    "# create dataframe of non-categorical columns\n",
    "non_ind_df = df[non_ind_columns]"
   ]
  },
  {
   "cell_type": "code",
   "execution_count": 30,
   "metadata": {},
   "outputs": [],
   "source": [
    "# One-hot encode the categorical columns\n",
    "ind_filtered_df_encoded = pd.get_dummies(ind_filtered_df).astype(int)"
   ]
  },
  {
   "cell_type": "code",
   "execution_count": 31,
   "metadata": {},
   "outputs": [
    {
     "data": {
      "text/html": [
       "<div>\n",
       "<style scoped>\n",
       "    .dataframe tbody tr th:only-of-type {\n",
       "        vertical-align: middle;\n",
       "    }\n",
       "\n",
       "    .dataframe tbody tr th {\n",
       "        vertical-align: top;\n",
       "    }\n",
       "\n",
       "    .dataframe thead th {\n",
       "        text-align: right;\n",
       "    }\n",
       "</style>\n",
       "<table border=\"1\" class=\"dataframe\">\n",
       "  <thead>\n",
       "    <tr style=\"text-align: right;\">\n",
       "      <th></th>\n",
       "      <th>age_ind</th>\n",
       "      <th>posted_speed_limit_ind</th>\n",
       "      <th>num_units_ind</th>\n",
       "      <th>crash_hour_ind</th>\n",
       "      <th>crash_day_of_week_ind</th>\n",
       "      <th>crash_month_ind</th>\n",
       "      <th>person_type_ind_BICYCLE</th>\n",
       "      <th>person_type_ind_PEDESTRIAN</th>\n",
       "      <th>sex_ind_0</th>\n",
       "      <th>sex_ind_F</th>\n",
       "      <th>...</th>\n",
       "      <th>street_direction_ind_E</th>\n",
       "      <th>street_direction_ind_N</th>\n",
       "      <th>street_direction_ind_S</th>\n",
       "      <th>street_direction_ind_W</th>\n",
       "      <th>intersection_related_i_ind_0</th>\n",
       "      <th>intersection_related_i_ind_N</th>\n",
       "      <th>intersection_related_i_ind_Y</th>\n",
       "      <th>hit_and_run_i_ind_0</th>\n",
       "      <th>hit_and_run_i_ind_N</th>\n",
       "      <th>hit_and_run_i_ind_Y</th>\n",
       "    </tr>\n",
       "  </thead>\n",
       "  <tbody>\n",
       "    <tr>\n",
       "      <th>0</th>\n",
       "      <td>43</td>\n",
       "      <td>30</td>\n",
       "      <td>2</td>\n",
       "      <td>18</td>\n",
       "      <td>3</td>\n",
       "      <td>2</td>\n",
       "      <td>0</td>\n",
       "      <td>1</td>\n",
       "      <td>0</td>\n",
       "      <td>1</td>\n",
       "      <td>...</td>\n",
       "      <td>1</td>\n",
       "      <td>0</td>\n",
       "      <td>0</td>\n",
       "      <td>0</td>\n",
       "      <td>1</td>\n",
       "      <td>0</td>\n",
       "      <td>0</td>\n",
       "      <td>1</td>\n",
       "      <td>0</td>\n",
       "      <td>0</td>\n",
       "    </tr>\n",
       "    <tr>\n",
       "      <th>1</th>\n",
       "      <td>37</td>\n",
       "      <td>30</td>\n",
       "      <td>2</td>\n",
       "      <td>17</td>\n",
       "      <td>3</td>\n",
       "      <td>2</td>\n",
       "      <td>0</td>\n",
       "      <td>1</td>\n",
       "      <td>0</td>\n",
       "      <td>1</td>\n",
       "      <td>...</td>\n",
       "      <td>0</td>\n",
       "      <td>1</td>\n",
       "      <td>0</td>\n",
       "      <td>0</td>\n",
       "      <td>1</td>\n",
       "      <td>0</td>\n",
       "      <td>0</td>\n",
       "      <td>1</td>\n",
       "      <td>0</td>\n",
       "      <td>0</td>\n",
       "    </tr>\n",
       "  </tbody>\n",
       "</table>\n",
       "<p>2 rows × 137 columns</p>\n",
       "</div>"
      ],
      "text/plain": [
       "   age_ind  posted_speed_limit_ind  num_units_ind  crash_hour_ind  \\\n",
       "0       43                      30              2              18   \n",
       "1       37                      30              2              17   \n",
       "\n",
       "   crash_day_of_week_ind  crash_month_ind  person_type_ind_BICYCLE  \\\n",
       "0                      3                2                        0   \n",
       "1                      3                2                        0   \n",
       "\n",
       "   person_type_ind_PEDESTRIAN  sex_ind_0  sex_ind_F  ...  \\\n",
       "0                           1          0          1  ...   \n",
       "1                           1          0          1  ...   \n",
       "\n",
       "   street_direction_ind_E  street_direction_ind_N  street_direction_ind_S  \\\n",
       "0                       1                       0                       0   \n",
       "1                       0                       1                       0   \n",
       "\n",
       "   street_direction_ind_W  intersection_related_i_ind_0  \\\n",
       "0                       0                             1   \n",
       "1                       0                             1   \n",
       "\n",
       "   intersection_related_i_ind_N  intersection_related_i_ind_Y  \\\n",
       "0                             0                             0   \n",
       "1                             0                             0   \n",
       "\n",
       "   hit_and_run_i_ind_0  hit_and_run_i_ind_N  hit_and_run_i_ind_Y  \n",
       "0                    1                    0                    0  \n",
       "1                    1                    0                    0  \n",
       "\n",
       "[2 rows x 137 columns]"
      ]
     },
     "execution_count": 31,
     "metadata": {},
     "output_type": "execute_result"
    }
   ],
   "source": [
    "# Preview Processed Data\n",
    "ind_filtered_df_encoded.head(2)"
   ]
  },
  {
   "cell_type": "code",
   "execution_count": 32,
   "metadata": {},
   "outputs": [],
   "source": [
    "# Add the transformed ind columns and non-ind columns into a singular df \n",
    "df = pd.concat([ind_filtered_df_encoded, non_ind_df], axis=1)"
   ]
  },
  {
   "cell_type": "code",
   "execution_count": 33,
   "metadata": {},
   "outputs": [
    {
     "data": {
      "text/html": [
       "<div>\n",
       "<style scoped>\n",
       "    .dataframe tbody tr th:only-of-type {\n",
       "        vertical-align: middle;\n",
       "    }\n",
       "\n",
       "    .dataframe tbody tr th {\n",
       "        vertical-align: top;\n",
       "    }\n",
       "\n",
       "    .dataframe thead th {\n",
       "        text-align: right;\n",
       "    }\n",
       "</style>\n",
       "<table border=\"1\" class=\"dataframe\">\n",
       "  <thead>\n",
       "    <tr style=\"text-align: right;\">\n",
       "      <th></th>\n",
       "      <th>age_ind</th>\n",
       "      <th>posted_speed_limit_ind</th>\n",
       "      <th>num_units_ind</th>\n",
       "      <th>crash_hour_ind</th>\n",
       "      <th>crash_day_of_week_ind</th>\n",
       "      <th>crash_month_ind</th>\n",
       "      <th>person_type_ind_BICYCLE</th>\n",
       "      <th>person_type_ind_PEDESTRIAN</th>\n",
       "      <th>sex_ind_0</th>\n",
       "      <th>sex_ind_F</th>\n",
       "      <th>...</th>\n",
       "      <th>street_direction_ind_S</th>\n",
       "      <th>street_direction_ind_W</th>\n",
       "      <th>intersection_related_i_ind_0</th>\n",
       "      <th>intersection_related_i_ind_N</th>\n",
       "      <th>intersection_related_i_ind_Y</th>\n",
       "      <th>hit_and_run_i_ind_0</th>\n",
       "      <th>hit_and_run_i_ind_N</th>\n",
       "      <th>hit_and_run_i_ind_Y</th>\n",
       "      <th>district_y</th>\n",
       "      <th>target</th>\n",
       "    </tr>\n",
       "  </thead>\n",
       "  <tbody>\n",
       "    <tr>\n",
       "      <th>0</th>\n",
       "      <td>43</td>\n",
       "      <td>30</td>\n",
       "      <td>2</td>\n",
       "      <td>18</td>\n",
       "      <td>3</td>\n",
       "      <td>2</td>\n",
       "      <td>0</td>\n",
       "      <td>1</td>\n",
       "      <td>0</td>\n",
       "      <td>1</td>\n",
       "      <td>...</td>\n",
       "      <td>0</td>\n",
       "      <td>0</td>\n",
       "      <td>1</td>\n",
       "      <td>0</td>\n",
       "      <td>0</td>\n",
       "      <td>1</td>\n",
       "      <td>0</td>\n",
       "      <td>0</td>\n",
       "      <td>0.0</td>\n",
       "      <td>1</td>\n",
       "    </tr>\n",
       "    <tr>\n",
       "      <th>1</th>\n",
       "      <td>37</td>\n",
       "      <td>30</td>\n",
       "      <td>2</td>\n",
       "      <td>17</td>\n",
       "      <td>3</td>\n",
       "      <td>2</td>\n",
       "      <td>0</td>\n",
       "      <td>1</td>\n",
       "      <td>0</td>\n",
       "      <td>1</td>\n",
       "      <td>...</td>\n",
       "      <td>0</td>\n",
       "      <td>0</td>\n",
       "      <td>1</td>\n",
       "      <td>0</td>\n",
       "      <td>0</td>\n",
       "      <td>1</td>\n",
       "      <td>0</td>\n",
       "      <td>0</td>\n",
       "      <td>20.0</td>\n",
       "      <td>1</td>\n",
       "    </tr>\n",
       "  </tbody>\n",
       "</table>\n",
       "<p>2 rows × 139 columns</p>\n",
       "</div>"
      ],
      "text/plain": [
       "   age_ind  posted_speed_limit_ind  num_units_ind  crash_hour_ind  \\\n",
       "0       43                      30              2              18   \n",
       "1       37                      30              2              17   \n",
       "\n",
       "   crash_day_of_week_ind  crash_month_ind  person_type_ind_BICYCLE  \\\n",
       "0                      3                2                        0   \n",
       "1                      3                2                        0   \n",
       "\n",
       "   person_type_ind_PEDESTRIAN  sex_ind_0  sex_ind_F  ...  \\\n",
       "0                           1          0          1  ...   \n",
       "1                           1          0          1  ...   \n",
       "\n",
       "   street_direction_ind_S  street_direction_ind_W  \\\n",
       "0                       0                       0   \n",
       "1                       0                       0   \n",
       "\n",
       "   intersection_related_i_ind_0  intersection_related_i_ind_N  \\\n",
       "0                             1                             0   \n",
       "1                             1                             0   \n",
       "\n",
       "   intersection_related_i_ind_Y  hit_and_run_i_ind_0  hit_and_run_i_ind_N  \\\n",
       "0                             0                    1                    0   \n",
       "1                             0                    1                    0   \n",
       "\n",
       "   hit_and_run_i_ind_Y  district_y  target  \n",
       "0                    0         0.0       1  \n",
       "1                    0        20.0       1  \n",
       "\n",
       "[2 rows x 139 columns]"
      ]
     },
     "execution_count": 33,
     "metadata": {},
     "output_type": "execute_result"
    }
   ],
   "source": [
    "df.head(2)"
   ]
  },
  {
   "cell_type": "code",
   "execution_count": 34,
   "metadata": {},
   "outputs": [
    {
     "data": {
      "text/plain": [
       "(22613, 139)"
      ]
     },
     "execution_count": 34,
     "metadata": {},
     "output_type": "execute_result"
    }
   ],
   "source": [
    "df.shape"
   ]
  },
  {
   "cell_type": "code",
   "execution_count": 35,
   "metadata": {},
   "outputs": [],
   "source": [
    "# write dataset \n",
    "df.to_parquet('processed_data.parquet')"
   ]
  }
 ],
 "metadata": {
  "kernelspec": {
   "display_name": "chicago",
   "language": "python",
   "name": "python3"
  },
  "language_info": {
   "codemirror_mode": {
    "name": "ipython",
    "version": 3
   },
   "file_extension": ".py",
   "mimetype": "text/x-python",
   "name": "python",
   "nbconvert_exporter": "python",
   "pygments_lexer": "ipython3",
   "version": "3.10.13"
  }
 },
 "nbformat": 4,
 "nbformat_minor": 2
}
