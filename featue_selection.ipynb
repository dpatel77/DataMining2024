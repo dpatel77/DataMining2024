{
 "cells": [
  {
   "cell_type": "code",
   "execution_count": 2,
   "metadata": {},
   "outputs": [],
   "source": [
    "import pandas as pd\n",
    "\n",
    "import matplotlib.pyplot as plt\n",
    "from sklearn.decomposition import PCA\n",
    "from sklearn.cluster import KMeans\n",
    "import statsmodels.api as sm\n",
    "from sklearn.manifold import TSNE\n"
   ]
  },
  {
   "cell_type": "code",
   "execution_count": 10,
   "metadata": {},
   "outputs": [],
   "source": [
    "# load data from processed_data.parquet\n",
    "df = pd.read_parquet(\"processed_data.parquet\")"
   ]
  },
  {
   "cell_type": "markdown",
   "metadata": {},
   "source": [
    "## Feature Selection \n",
    "\n",
    "<br /> **Principal Component Analysis (PCA)**: Dimensionality reduction technique used to reduce the dimensionality of a dataset while preserving as much variance as possible. It does this by transforming the original variables into a new set of variables called principal components, which are linear combinations of the original variables. Requires numerical encoding!\n",
    "\n",
    "<br /> **K-mean clustering**: Unsupervised machine learning algorithm used for clustering data into groups or clusters based on similarities in their feature space. It aims to partition the data into k clusters, where each data point belongs to the cluster with the nearest mean (centroid). Requires numerical encoding!\n",
    "\n",
    "<br /> **t-Distributed Stochastic Neighbor Embedding (t-SNE)**: Visualizing high-dimensional data in lower-dimensional spaces, often in two or three dimensions. Preserves the local structure of the data points, meaning that similar data points in the high-dimensional space should remain close to each other in the low-dimensional embedding. Requires numerical encoding!\n",
    "\n",
    "<br /> **Latent Class Analysis (LCA)**: Identifies unobserved or latent subgroups within a population based on patterns of observed categorical variables. It belongs to the family of finite mixture models, where each latent class represents a distinct subgroup with its own characteristic response probabilities for the observed variables. Requires numerical encoding!"
   ]
  },
  {
   "cell_type": "markdown",
   "metadata": {},
   "source": [
    "#### PCA"
   ]
  },
  {
   "cell_type": "code",
   "execution_count": null,
   "metadata": {},
   "outputs": [],
   "source": [
    "# Create sample data\n",
    "X = np.array([[1, 2, 3], [4, 5, 6], [7, 8, 9]])\n",
    "\n",
    "# Initialize PCA with desired number of components\n",
    "pca = PCA(n_components=2)\n",
    "\n",
    "# Fit PCA to the data\n",
    "pca.fit(X)\n",
    "\n",
    "# Transform the data into the new feature space\n",
    "X_transformed = pca.transform(X)\n",
    "\n",
    "# Explained variance ratio\n",
    "explained_variance_ratio = pca.explained_variance_ratio_\n",
    "\n",
    "# Print the transformed data and explained variance ratio\n",
    "print(\"Transformed data:\")\n",
    "print(X_transformed)\n",
    "print(\"\\nExplained variance ratio:\")\n",
    "print(explained_variance_ratio)"
   ]
  },
  {
   "cell_type": "markdown",
   "metadata": {},
   "source": [
    "#### K-mean clustering "
   ]
  },
  {
   "cell_type": "code",
   "execution_count": null,
   "metadata": {},
   "outputs": [],
   "source": [
    "# Generate some random data for demonstration\n",
    "np.random.seed(0)\n",
    "X = np.random.randn(100, 2)\n",
    "\n",
    "# Initialize KMeans with desired number of clusters\n",
    "kmeans = KMeans(n_clusters=3)\n",
    "\n",
    "# Fit KMeans to the data\n",
    "kmeans.fit(X)\n",
    "\n",
    "# Get cluster centers and labels\n",
    "cluster_centers = kmeans.cluster_centers_\n",
    "labels = kmeans.labels_\n",
    "\n",
    "# Visualize the data and clusters\n",
    "plt.scatter(X[:, 0], X[:, 1], c=labels, cmap='viridis', marker='o', edgecolor='k')\n",
    "plt.scatter(cluster_centers[:, 0], cluster_centers[:, 1], c='red', marker='x', s=100, label='Cluster Centers')\n",
    "plt.title('K-means Clustering')\n",
    "plt.xlabel('Feature 1')\n",
    "plt.ylabel('Feature 2')\n",
    "plt.legend()\n",
    "plt.grid(True)\n",
    "plt.show()"
   ]
  },
  {
   "cell_type": "markdown",
   "metadata": {},
   "source": [
    "#### t-Distributed Stochastic Neighbor Embedding (t-SNE)"
   ]
  },
  {
   "cell_type": "code",
   "execution_count": 1,
   "metadata": {},
   "outputs": [
    {
     "ename": "NameError",
     "evalue": "name 'load_iris' is not defined",
     "output_type": "error",
     "traceback": [
      "\u001b[0;31m---------------------------------------------------------------------------\u001b[0m",
      "\u001b[0;31mNameError\u001b[0m                                 Traceback (most recent call last)",
      "Cell \u001b[0;32mIn[1], line 2\u001b[0m\n\u001b[1;32m      1\u001b[0m \u001b[38;5;66;03m# Load the Iris dataset (for demonstration purposes)\u001b[39;00m\n\u001b[0;32m----> 2\u001b[0m iris \u001b[38;5;241m=\u001b[39m \u001b[43mload_iris\u001b[49m()\n\u001b[1;32m      3\u001b[0m X \u001b[38;5;241m=\u001b[39m iris\u001b[38;5;241m.\u001b[39mdata\n\u001b[1;32m      4\u001b[0m y \u001b[38;5;241m=\u001b[39m iris\u001b[38;5;241m.\u001b[39mtarget\n",
      "\u001b[0;31mNameError\u001b[0m: name 'load_iris' is not defined"
     ]
    }
   ],
   "source": [
    "# Load the Iris dataset (for demonstration purposes)\n",
    "iris = load_iris()\n",
    "X = iris.data\n",
    "y = iris.target\n",
    "\n",
    "# Initialize t-SNE with desired parameters\n",
    "tsne = TSNE(n_components=2, perplexity=30, random_state=42)\n",
    "\n",
    "# Fit t-SNE to the data and transform it\n",
    "X_embedded = tsne.fit_transform(X)\n",
    "\n",
    "# Visualize the t-SNE embedding\n",
    "plt.figure(figsize=(8, 6))\n",
    "plt.scatter(X_embedded[:, 0], X_embedded[:, 1], c=y, cmap='viridis')\n",
    "plt.colorbar(label='Target', ticks=range(3), format=plt.FuncFormatter(lambda x, _: iris.target_names[int(x)]))\n",
    "plt.title('t-SNE Embedding of Iris Dataset')\n",
    "plt.xlabel('t-SNE Dimension 1')\n",
    "plt.ylabel('t-SNE Dimension 2')\n",
    "plt.grid(True)\n",
    "plt.show()"
   ]
  },
  {
   "cell_type": "markdown",
   "metadata": {},
   "source": [
    "#### Latent class analysis (LCA)"
   ]
  },
  {
   "cell_type": "code",
   "execution_count": null,
   "metadata": {},
   "outputs": [],
   "source": [
    "np.random.seed(0)\n",
    "n_individuals = 1000\n",
    "n_questions = 5\n",
    "data = np.random.randint(2, size=(n_individuals, n_questions))\n",
    "df = pd.DataFrame(data, columns=[f\"Question_{i}\" for i in range(n_questions)])\n",
    "\n",
    "# Perform Latent Class Analysis (LCA)\n",
    "lca_model = sm.LatentClass(df.values, nclasses=2)  # Specify the number of latent classes\n",
    "lca_results = lca_model.fit()\n",
    "\n",
    "# Print summary of the LCA results\n",
    "print(lca_results.summary())"
   ]
  }
 ],
 "metadata": {
  "kernelspec": {
   "display_name": "chicago",
   "language": "python",
   "name": "python3"
  },
  "language_info": {
   "codemirror_mode": {
    "name": "ipython",
    "version": 3
   },
   "file_extension": ".py",
   "mimetype": "text/x-python",
   "name": "python",
   "nbconvert_exporter": "python",
   "pygments_lexer": "ipython3",
   "version": "3.9.13"
  }
 },
 "nbformat": 4,
 "nbformat_minor": 2
}
